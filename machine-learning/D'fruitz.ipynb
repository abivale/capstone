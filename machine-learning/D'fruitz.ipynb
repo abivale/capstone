{
 "cells": [
  {
   "cell_type": "code",
   "execution_count": 2,
   "metadata": {},
   "outputs": [],
   "source": [
    "import tensorflow as tf\n",
    "import matplotlib.pyplot as plt\n",
    "import numpy as np\n",
    "from tensorflow.keras.preprocessing.image import ImageDataGenerator\n",
    "from keras.models import Sequential\n",
    "from keras.layers import Conv2D, MaxPooling2D, Flatten, Dense, Dropout\n",
    "import cv2\n",
    "import random\n",
    "import glob\n"
   ]
  },
  {
   "cell_type": "code",
   "execution_count": 3,
   "metadata": {},
   "outputs": [],
   "source": [
    "x = []\n",
    "y = []\n",
    "\n",
    "#BAD QUALITY FOOD\n",
    "\n",
    "for alamat_gambar in glob.glob(\"capstone datasets/Bad Quality_Fruits/Apple_Bad/*.jpg\"):\n",
    "  gambar = cv2.imread(alamat_gambar)\n",
    "  gambar = cv2.resize(gambar, (64, 64))/255\n",
    "  x.append(gambar)\n",
    "  y.append(0)\n",
    "\n",
    "for alamat_gambar in glob.glob(\"capstone datasets/Bad Quality_Fruits/Banana_Bad/*.jpg\"):\n",
    "  gambar = cv2.imread(alamat_gambar)\n",
    "  gambar = cv2.resize(gambar, (64, 64))/255\n",
    "  x.append(gambar)\n",
    "  y.append(1)\n",
    "\n",
    "for alamat_gambar in glob.glob(\"capstone datasets/Bad Quality_Fruits/Guava_Bad/*.jpg\"):\n",
    "  gambar = cv2.imread(alamat_gambar)\n",
    "  gambar = cv2.resize(gambar, (64, 64))/255\n",
    "  x.append(gambar)\n",
    "  y.append(2)\n",
    "\n",
    "for alamat_gambar in glob.glob(\"capstone datasets/Bad Quality_Fruits/Lime_Bad/*.jpg\"):\n",
    "  gambar = cv2.imread(alamat_gambar)\n",
    "  gambar = cv2.resize(gambar, (64, 64))/255\n",
    "  x.append(gambar)\n",
    "  y.append(3)\n",
    "\n",
    "for alamat_gambar in glob.glob(\"capstone datasets/Bad Quality_Fruits/Orange_Bad/*.jpg\"):\n",
    "  gambar = cv2.imread(alamat_gambar)\n",
    "  gambar = cv2.resize(gambar, (64, 64))/255\n",
    "  x.append(gambar)\n",
    "  y.append(4)\n",
    "\n",
    "for alamat_gambar in glob.glob(\"capstone datasets/Bad Quality_Fruits/Pomegranate_Bad/*.jpg\"):\n",
    "  gambar = cv2.imread(alamat_gambar)\n",
    "  gambar = cv2.resize(gambar, (64, 64))/255\n",
    "  x.append(gambar)\n",
    "  y.append(5)\n",
    "\n",
    "#GOOD QUALITY FOOD\n",
    "\n",
    "for alamat_gambar in glob.glob(\"capstone datasets/Good Quality_Fruits/Apple_Good/*.jpg\"):\n",
    "  gambar = cv2.imread(alamat_gambar)\n",
    "  gambar = cv2.resize(gambar, (64, 64))/255\n",
    "  x.append(gambar)\n",
    "  y.append(6)\n",
    "\n",
    "for alamat_gambar in glob.glob(\"capstone datasets/Good Quality_Fruits/Banana_Good/*.jpg\"):\n",
    "  gambar = cv2.imread(alamat_gambar)\n",
    "  gambar = cv2.resize(gambar, (64, 64))/255\n",
    "  x.append(gambar)\n",
    "  y.append(7)\n",
    "\n",
    "for alamat_gambar in glob.glob(\"capstone datasets/Good Quality_Fruits/Guava_Good/*.jpg\"):\n",
    "  gambar = cv2.imread(alamat_gambar)\n",
    "  gambar = cv2.resize(gambar, (64, 64))/255\n",
    "  x.append(gambar)\n",
    "  y.append(8)\n",
    "\n",
    "for alamat_gambar in glob.glob(\"capstone datasets/Good Quality_Fruits/Lime_Good/*.jpg\"):\n",
    "  gambar = cv2.imread(alamat_gambar)\n",
    "  gambar = cv2.resize(gambar, (64, 64))/255\n",
    "  x.append(gambar)\n",
    "  y.append(9)\n",
    "\n",
    "for alamat_gambar in glob.glob(\"capstone datasets/Good Quality_Fruits/Orange_Good/*.jpg\"):\n",
    "  gambar = cv2.imread(alamat_gambar)\n",
    "  gambar = cv2.resize(gambar, (64, 64))/255\n",
    "  x.append(gambar)\n",
    "  y.append(10)\n",
    "\n",
    "for alamat_gambar in glob.glob(\"capstone datasets/Good Quality_Fruits/Pomegranate_Good/*.jpg\"):\n",
    "  gambar = cv2.imread(alamat_gambar)\n",
    "  gambar = cv2.resize(gambar, (64, 64))/255\n",
    "  x.append(gambar)\n",
    "  y.append(11)\n",
    "\n",
    "#MIXED QUALITY FOOD\n",
    "\n",
    "for alamat_gambar in glob.glob(\"capstone datasets/Mixed Quality_Fruits/Apple/*.jpg\"):\n",
    "  gambar = cv2.imread(alamat_gambar)\n",
    "  gambar = cv2.resize(gambar, (64, 64))/255\n",
    "  x.append(gambar)\n",
    "  y.append(12)\n",
    "\n",
    "for alamat_gambar in glob.glob(\"capstone datasets/Mixed Quality_Fruits/Banana/*.jpg\"):\n",
    "  gambar = cv2.imread(alamat_gambar)\n",
    "  gambar = cv2.resize(gambar, (64, 64))/255\n",
    "  x.append(gambar)\n",
    "  y.append(13)\n",
    "\n",
    "for alamat_gambar in glob.glob(\"capstone datasets/Mixed Quality_Fruits/Guava/*.jpg\"):\n",
    "  gambar = cv2.imread(alamat_gambar)\n",
    "  gambar = cv2.resize(gambar, (64, 64))/255\n",
    "  x.append(gambar)\n",
    "  y.append(14)\n",
    "  \n",
    "for alamat_gambar in glob.glob(\"capstone datasets/Mixed Quality_Fruits/Lemon/*.jpg\"):\n",
    "  gambar = cv2.imread(alamat_gambar)\n",
    "  gambar = cv2.resize(gambar, (64, 64))/255\n",
    "  x.append(gambar)\n",
    "  y.append(15)\n",
    "\n",
    "for alamat_gambar in glob.glob(\"capstone datasets/Mixed Quality_Fruits/Orange/*.jpg\"):\n",
    "  gambar = cv2.imread(alamat_gambar)\n",
    "  gambar = cv2.resize(gambar, (64, 64))/255\n",
    "  x.append(gambar)\n",
    "  y.append(16)\n",
    "\n",
    "for alamat_gambar in glob.glob(\"capstone datasets/Mixed Quality_Fruits/Pomegranate/*.jpg\"):\n",
    "  gambar = cv2.imread(alamat_gambar)\n",
    "  gambar = cv2.resize(gambar, (64, 64))/255\n",
    "  x.append(gambar)\n",
    "  y.append(17)\n",
    "\n",
    "z = list(zip(x, y))\n",
    "random.shuffle(z)\n",
    "x, y = zip(*z)\n",
    "x = np.asarray(x)\n",
    "y = np.asarray(y)"
   ]
  },
  {
   "cell_type": "code",
   "execution_count": 3,
   "metadata": {},
   "outputs": [
    {
     "data": {
      "text/plain": [
       "(19511, 64, 64, 3)"
      ]
     },
     "execution_count": 3,
     "metadata": {},
     "output_type": "execute_result"
    }
   ],
   "source": [
    "x.shape"
   ]
  },
  {
   "cell_type": "code",
   "execution_count": 4,
   "metadata": {},
   "outputs": [
    {
     "data": {
      "text/plain": [
       "(19511,)"
      ]
     },
     "execution_count": 4,
     "metadata": {},
     "output_type": "execute_result"
    }
   ],
   "source": [
    "y.shape"
   ]
  },
  {
   "cell_type": "code",
   "execution_count": 13,
   "metadata": {},
   "outputs": [
    {
     "name": "stdout",
     "output_type": "stream",
     "text": [
      "Model: \"sequential_2\"\n",
      "_________________________________________________________________\n",
      " Layer (type)                Output Shape              Param #   \n",
      "=================================================================\n",
      " conv2d_8 (Conv2D)           (None, 62, 62, 64)        1792      \n",
      "                                                                 \n",
      " max_pooling2d_8 (MaxPooling  (None, 31, 31, 64)       0         \n",
      " 2D)                                                             \n",
      "                                                                 \n",
      " conv2d_9 (Conv2D)           (None, 29, 29, 64)        36928     \n",
      "                                                                 \n",
      " max_pooling2d_9 (MaxPooling  (None, 14, 14, 64)       0         \n",
      " 2D)                                                             \n",
      "                                                                 \n",
      " conv2d_10 (Conv2D)          (None, 12, 12, 32)        18464     \n",
      "                                                                 \n",
      " max_pooling2d_10 (MaxPoolin  (None, 6, 6, 32)         0         \n",
      " g2D)                                                            \n",
      "                                                                 \n",
      " conv2d_11 (Conv2D)          (None, 4, 4, 16)          4624      \n",
      "                                                                 \n",
      " max_pooling2d_11 (MaxPoolin  (None, 2, 2, 16)         0         \n",
      " g2D)                                                            \n",
      "                                                                 \n",
      " flatten_2 (Flatten)         (None, 64)                0         \n",
      "                                                                 \n",
      " dense_4 (Dense)             (None, 512)               33280     \n",
      "                                                                 \n",
      " dropout_2 (Dropout)         (None, 512)               0         \n",
      "                                                                 \n",
      " dense_5 (Dense)             (None, 18)                9234      \n",
      "                                                                 \n",
      "=================================================================\n",
      "Total params: 104,322\n",
      "Trainable params: 104,322\n",
      "Non-trainable params: 0\n",
      "_________________________________________________________________\n"
     ]
    }
   ],
   "source": [
    "from keras.models import Sequential\n",
    "from keras.layers import Conv2D, MaxPooling2D, Flatten, Dense\n",
    "\n",
    "model = Sequential()\n",
    "\n",
    "model.add(Conv2D(64, (3, 3), input_shape=x.shape[1:], activation='relu'))\n",
    "model.add(MaxPooling2D(2, 2))\n",
    "model.add(Conv2D(64, (3, 3), activation='relu'))\n",
    "model.add(MaxPooling2D(2, 2))\n",
    "model.add(Conv2D(32, (3, 3), activation='relu'))\n",
    "model.add(MaxPooling2D(2, 2))\n",
    "model.add(Conv2D(16, (3, 3), activation='relu'))\n",
    "model.add(MaxPooling2D(2, 2))\n",
    "model.add(Flatten())\n",
    "model.add(Dense(512, activation='relu'))\n",
    "model.add(Dropout(0.2))\n",
    "model.add(Dense(18, activation='softmax'))\n",
    "\n",
    "model.compile(optimizer='adam', loss='sparse_categorical_crossentropy', metrics=['accuracy'])\n",
    "model.summary()"
   ]
  },
  {
   "cell_type": "code",
   "execution_count": 14,
   "metadata": {},
   "outputs": [
    {
     "name": "stdout",
     "output_type": "stream",
     "text": [
      "Epoch 1/10\n",
      "3122/3122 [==============================] - 16s 5ms/step - loss: 1.2002 - accuracy: 0.6131 - val_loss: 0.7095 - val_accuracy: 0.7515\n",
      "Epoch 2/10\n",
      "3122/3122 [==============================] - 15s 5ms/step - loss: 0.5995 - accuracy: 0.8043 - val_loss: 0.7599 - val_accuracy: 0.7671\n",
      "Epoch 3/10\n",
      "3122/3122 [==============================] - 15s 5ms/step - loss: 0.4367 - accuracy: 0.8569 - val_loss: 0.3994 - val_accuracy: 0.8675\n",
      "Epoch 4/10\n",
      "3122/3122 [==============================] - 15s 5ms/step - loss: 0.3494 - accuracy: 0.8840 - val_loss: 0.3170 - val_accuracy: 0.9016\n",
      "Epoch 5/10\n",
      "3122/3122 [==============================] - 15s 5ms/step - loss: 0.2913 - accuracy: 0.9047 - val_loss: 0.3147 - val_accuracy: 0.9021\n",
      "Epoch 6/10\n",
      "3122/3122 [==============================] - 15s 5ms/step - loss: 0.2537 - accuracy: 0.9165 - val_loss: 0.2644 - val_accuracy: 0.9165\n",
      "Epoch 7/10\n",
      "3122/3122 [==============================] - 15s 5ms/step - loss: 0.2294 - accuracy: 0.9253 - val_loss: 0.6041 - val_accuracy: 0.8522\n",
      "Epoch 8/10\n",
      "3122/3122 [==============================] - 15s 5ms/step - loss: 0.2129 - accuracy: 0.9288 - val_loss: 0.3370 - val_accuracy: 0.9042\n",
      "Epoch 9/10\n",
      "3122/3122 [==============================] - 15s 5ms/step - loss: 0.1977 - accuracy: 0.9335 - val_loss: 0.2704 - val_accuracy: 0.9203\n",
      "Epoch 10/10\n",
      "3122/3122 [==============================] - 15s 5ms/step - loss: 0.1881 - accuracy: 0.9418 - val_loss: 0.2582 - val_accuracy: 0.9242\n"
     ]
    }
   ],
   "source": [
    "history = model.fit(x, y, batch_size=5, epochs=10, validation_split=0.2)"
   ]
  },
  {
   "cell_type": "code",
   "execution_count": 15,
   "metadata": {},
   "outputs": [
    {
     "data": {
      "image/png": "[encoded data removed]",
      "text/plain": [
       "<Figure size 640x480 with 1 Axes>"
      ]
     },
     "metadata": {},
     "output_type": "display_data"
    }
   ],
   "source": [
    "# Get the accuracy and validation accuracy values from the history object\n",
    "accuracy = history.history['accuracy']\n",
    "val_accuracy = history.history['val_accuracy']\n",
    "\n",
    "# Create a list of epochs\n",
    "epochs = range(1, len(accuracy) + 1)\n",
    "\n",
    "# Plotting the accuracy and validation accuracy\n",
    "plt.plot(epochs, accuracy, label='Accuracy')\n",
    "plt.plot(epochs, val_accuracy, label='Validation Accuracy')\n",
    "\n",
    "# Adding labels and title\n",
    "plt.xlabel('Epochs')\n",
    "plt.ylabel('Accuracy')\n",
    "plt.title('Accuracy vs. Validation Accuracy')\n",
    "\n",
    "# Adding legend\n",
    "plt.legend()\n",
    "\n",
    "# Display the plot\n",
    "plt.show()"
   ]
  },
  {
   "cell_type": "code",
   "execution_count": 16,
   "metadata": {},
   "outputs": [
    {
     "data": {
      "image/png": "[encoded data removed]",
      "text/plain": [
       "<Figure size 640x480 with 1 Axes>"
      ]
     },
     "metadata": {},
     "output_type": "display_data"
    }
   ],
   "source": [
    "# Get the loss and validation loss values from the history object\n",
    "loss = history.history['loss']\n",
    "val_loss = history.history['val_loss']\n",
    "\n",
    "# Create a list of epochs\n",
    "epochs = range(1, len(loss) + 1)\n",
    "\n",
    "# Plotting the loss and validation loss\n",
    "plt.plot(epochs, loss, label='loss')\n",
    "plt.plot(epochs, val_loss, label='Validation loss')\n",
    "\n",
    "# Adding labels and title\n",
    "plt.xlabel('Epochs')\n",
    "plt.ylabel('loss')\n",
    "plt.title('loss vs. Validation loss')\n",
    "\n",
    "# Adding legend\n",
    "plt.legend()\n",
    "\n",
    "# Display the plot\n",
    "plt.show()"
   ]
  },
  {
   "cell_type": "code",
   "execution_count": 32,
   "metadata": {},
   "outputs": [],
   "source": [
    "model.save('dfruitz_model_dropOut.h5')"
   ]
  },
  {
   "cell_type": "code",
   "execution_count": 13,
   "metadata": {},
   "outputs": [],
   "source": [
    "new_model = tf.keras.models.load_model('dfruitz_model_dropOut.h5')"
   ]
  },
  {
   "cell_type": "code",
   "execution_count": 32,
   "metadata": {},
   "outputs": [
    {
     "name": "stdout",
     "output_type": "stream",
     "text": [
      "Model: \"sequential_2\"\n",
      "_________________________________________________________________\n",
      " Layer (type)                Output Shape              Param #   \n",
      "=================================================================\n",
      " conv2d_8 (Conv2D)           (None, 62, 62, 16)        448       \n",
      "                                                                 \n",
      " max_pooling2d_8 (MaxPooling  (None, 31, 31, 16)       0         \n",
      " 2D)                                                             \n",
      "                                                                 \n",
      " conv2d_9 (Conv2D)           (None, 29, 29, 32)        4640      \n",
      "                                                                 \n",
      " max_pooling2d_9 (MaxPooling  (None, 14, 14, 32)       0         \n",
      " 2D)                                                             \n",
      "                                                                 \n",
      " conv2d_10 (Conv2D)          (None, 12, 12, 64)        18496     \n",
      "                                                                 \n",
      " max_pooling2d_10 (MaxPoolin  (None, 6, 6, 64)         0         \n",
      " g2D)                                                            \n",
      "                                                                 \n",
      " conv2d_11 (Conv2D)          (None, 4, 4, 128)         73856     \n",
      "                                                                 \n",
      " max_pooling2d_11 (MaxPoolin  (None, 2, 2, 128)        0         \n",
      " g2D)                                                            \n",
      "                                                                 \n",
      " flatten_2 (Flatten)         (None, 512)               0         \n",
      "                                                                 \n",
      " dense_3 (Dense)             (None, 512)               262656    \n",
      "                                                                 \n",
      " dropout_1 (Dropout)         (None, 512)               0         \n",
      "                                                                 \n",
      " dense_4 (Dense)             (None, 18)                9234      \n",
      "                                                                 \n",
      "=================================================================\n",
      "Total params: 369,330\n",
      "Trainable params: 369,330\n",
      "Non-trainable params: 0\n",
      "_________________________________________________________________\n"
     ]
    }
   ],
   "source": [
    "new_model.summary()"
   ]
  },
  {
   "cell_type": "code",
   "execution_count": 5,
   "metadata": {},
   "outputs": [],
   "source": [
    "kamus = {0: \"Apple_Bad\", 1: \"Banana_Bad\", 2: \"Guava_Bad\",3: \"Lime_Bad\", 4: \"Orange_Bad\", 5: \"Pomegranate_Bad\",\n",
    "         6: \"Apple_Good\", 7: \"Banana_Good\", 8: \"Guava_Good\",9: \"Lime_Good\", 10: \"Orange_Good\", 11: \"Pomegranate_Good\",\n",
    "         12: \"Apple_Mixed\", 13: \"Banana_Mixed\", 14: \"Guava_Mixed\",15: \"Lime_Mixed\", 16: \"Orange_Mixed\", 17: \"Pomegranate_Mixed\"}\n",
    "\n"
   ]
  },
  {
   "cell_type": "code",
   "execution_count": 28,
   "metadata": {},
   "outputs": [
    {
     "name": "stdout",
     "output_type": "stream",
     "text": [
      "1/1 [==============================] - 0s 13ms/step\n"
     ]
    },
    {
     "data": {
      "text/plain": [
       "['Guava_Bad']"
      ]
     },
     "execution_count": 28,
     "metadata": {},
     "output_type": "execute_result"
    }
   ],
   "source": [
    "x_test = []\n",
    "\n",
    "ini = cv2.resize(cv2.imread(\"D:\\Bangkit\\capstone\\capstone datasets\\Bad Quality_Fruits\\Guava_Bad\\IMG_20190822_080144.jpg\"), (64, 64))/255\n",
    "x_test.append(ini)\n",
    "\n",
    "x_test = np.asarray(x_test)\n",
    "\n",
    "y_pred = new_model.predict(x_test)\n",
    "y_pred = np.argmax(y_pred, axis=1)\n",
    "[kamus[_] for _ in y_pred]"
   ]
  },
  {
   "cell_type": "code",
   "execution_count": 29,
   "metadata": {},
   "outputs": [
    {
     "name": "stdout",
     "output_type": "stream",
     "text": [
      "[2]\n"
     ]
    }
   ],
   "source": [
    "print(y_pred)"
   ]
  },
  {
   "cell_type": "code",
   "execution_count": 9,
   "metadata": {},
   "outputs": [
    {
     "name": "stdout",
     "output_type": "stream",
     "text": [
      "2.9.0\n"
     ]
    }
   ],
   "source": [
    "print(tf.__version__)"
   ]
  },
  {
   "cell_type": "code",
   "execution_count": 34,
   "metadata": {},
   "outputs": [],
   "source": [
    "import tensorflowjs as tfjs"
   ]
  },
  {
   "cell_type": "code",
   "execution_count": 16,
   "metadata": {},
   "outputs": [],
   "source": [
    "!tensorflowjs_converter --input_format=keras D:\\Bangkit\\capstone\\dfruitz_model_dropOut.h5 tfjs_model-coba"
   ]
  }
 ],
 "metadata": {
  "kernelspec": {
   "display_name": "tf",
   "language": "python",
   "name": "python3"
  },
  "language_info": {
   "codemirror_mode": {
    "name": "ipython",
    "version": 3
   },
   "file_extension": ".py",
   "mimetype": "text/x-python",
   "name": "python",
   "nbconvert_exporter": "python",
   "pygments_lexer": "ipython3",
   "version": "3.9.16"
  },
  "orig_nbformat": 4
 },
 "nbformat": 4,
 "nbformat_minor": 2
}
